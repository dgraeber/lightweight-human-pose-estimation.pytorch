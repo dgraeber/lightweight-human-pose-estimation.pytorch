{
 "cells": [
  {
   "cell_type": "code",
   "execution_count": 24,
   "metadata": {},
   "outputs": [],
   "source": [
    "BODY_PARTS_KPT_IDS = [[1, 2], [1, 5], [2, 3], [3, 4], [5, 6], [6, 7], [1, 8], [8, 9], [9, 10], [1, 11],\n",
    "                      [11, 12], [12, 13], [1, 0], [0, 14], [14, 16], [0, 15], [15, 17], [2, 16], [5, 17]]\n",
    "BODY_PARTS_PAF_IDS = ([12, 13], [20, 21], [14, 15], [16, 17], [22, 23], [24, 25], [0, 1], [2, 3], [4, 5],\n",
    "                      [6, 7], [8, 9], [10, 11], [28, 29], [30, 31], [34, 35], [32, 33], [36, 37], [18, 19], [26, 27])\n",
    "\n",
    "\n",
    "def display_image(pose_entries, all_keypoints, scale, pad, img, orig_img):\n",
    "    stride = 8\n",
    "    upsample_ratio = 4\n",
    "    color = [0, 224, 255]\n",
    "\n",
    "    for kpt_id in range(all_keypoints.shape[0]):\n",
    "        all_keypoints[kpt_id, 0] = (all_keypoints[kpt_id, 0] * stride / upsample_ratio - pad[1]) / scale\n",
    "        all_keypoints[kpt_id, 1] = (all_keypoints[kpt_id, 1] * stride / upsample_ratio - pad[0]) / scale\n",
    "    for n in range(len(pose_entries)):\n",
    "        if len(pose_entries[n]) == 0:\n",
    "            continue\n",
    "        for part_id in range(len(BODY_PARTS_PAF_IDS) - 2):\n",
    "            kpt_a_id = BODY_PARTS_KPT_IDS[part_id][0]\n",
    "            global_kpt_a_id = pose_entries[n][kpt_a_id]\n",
    "            if global_kpt_a_id != -1:\n",
    "                x_a, y_a = all_keypoints[int(global_kpt_a_id), 0:2]\n",
    "                cv2.circle(img, (int(x_a), int(y_a)), 3, color, -1)\n",
    "            kpt_b_id = BODY_PARTS_KPT_IDS[part_id][1]\n",
    "            global_kpt_b_id = pose_entries[n][kpt_b_id]\n",
    "            if global_kpt_b_id != -1:\n",
    "                x_b, y_b = all_keypoints[int(global_kpt_b_id), 0:2]\n",
    "                cv2.circle(img, (int(x_b), int(y_b)), 3, color, -1)\n",
    "            if global_kpt_a_id != -1 and global_kpt_b_id != -1:\n",
    "                cv2.line(img, (int(x_a), int(y_a)), (int(x_b), int(y_b)), color, 2)\n",
    "\n",
    "    img = cv2.addWeighted(orig_img, 0.6, img, 0.4, 0)\n",
    "    #cv2.imshow('Lightweight Human Pose Estimation Python Demo', img)\n",
    "    cv2.imwrite('out2.jpg',img)"
   ]
  },
  {
   "cell_type": "code",
   "execution_count": null,
   "metadata": {},
   "outputs": [],
   "source": [
    "from datetime import datetime as dt\n",
    "import requests\n",
    "import json\n",
    "import cv2\n",
    "import numpy as np\n",
    "\n",
    "stamp = dt.now().strftime(\"%Y%m%d%H%M%S\")\n",
    "#image_file = 'eagles.jpg'\n",
    "image_file = 'bdawk.jpg'\n",
    "url = 'http://ec2-3-87-216-77.compute-1.amazonaws.com:8080/invocations'\n",
    "#image_display = skimage.io.imread(image_file)\n",
    "\n",
    "#payload = open(image_file)\n",
    "with open(image_file, 'rb') as f:\n",
    "  payload = f.read()\n",
    "\n",
    "\n",
    "headers = {'content-type': 'image/jpeg'}\n",
    "\n",
    "#get the inferences\n",
    "r = requests.post(url, data=payload, headers=headers)\n",
    "results =  json.loads(r.text)\n",
    "\n",
    "#print (json.dumps(results))\n",
    "\n",
    "image = cv2.imread(image_file, cv2.IMREAD_COLOR)\n",
    "orig_img = image.copy()\n",
    "\n",
    "\n",
    "pose_entries = results['prediction']['pose_entries']\n",
    "all_keypoints = results['prediction']['all_keypoints']\n",
    "pad = results['prediction']['pad']\n",
    "scale = results['prediction']['scale']\n",
    "\n",
    "\n",
    "display_image(pose_entries,np.array(all_keypoints),scale,pad,image,orig_img)\n"
   ]
  },
  {
   "cell_type": "code",
   "execution_count": null,
   "metadata": {},
   "outputs": [],
   "source": []
  }
 ],
 "metadata": {
  "kernelspec": {
   "display_name": "Python 3",
   "language": "python",
   "name": "python3"
  },
  "language_info": {
   "codemirror_mode": {
    "name": "ipython",
    "version": 3
   },
   "file_extension": ".py",
   "mimetype": "text/x-python",
   "name": "python",
   "nbconvert_exporter": "python",
   "pygments_lexer": "ipython3",
   "version": "3.6.8"
  }
 },
 "nbformat": 4,
 "nbformat_minor": 2
}
